{
 "cells": [
  {
   "cell_type": "code",
   "execution_count": null,
   "metadata": {},
   "outputs": [],
   "source": [
    "from model_ade2 import ADECashFLowModel\n",
    "import pandas as pd\n",
    "from datetime import datetime"
   ]
  },
  {
   "cell_type": "markdown",
   "metadata": {},
   "source": [
    "# Projection des flux par pas de temps pour tous les MP"
   ]
  },
  {
   "cell_type": "code",
   "execution_count": null,
   "metadata": {},
   "outputs": [],
   "source": [
    "#Dictionnay containing input files paths\n",
    "dataconfig ={'IncidenceData' : 'C://Users//work//OneDrive//modele_emprunteur//CSV//INCIDENCE.csv',\n",
    "        'LapseData' : 'C://Users//work//OneDrive//modele_emprunteur//CSV//LAPSE.csv',\n",
    "        'MaintienChData' : 'C://Users//work//OneDrive//modele_emprunteur//CSV//MAINTIEN_CH.csv',\n",
    "        'MaintienIncapData' : 'C://Users//work//OneDrive//modele_emprunteur//CSV//MAINTIEN_INCAP.csv',\n",
    "        'MortaliteTHData' : 'C://Users//work//OneDrive//modele_emprunteur//CSV//MORTALITE_TF0002.csv',\n",
    "        'MortaliteTFData' : 'C://Users//work//OneDrive//modele_emprunteur//CSV//MORTALITE_TH0002.csv',\n",
    "        'PassageInvalData' : 'C://Users//work//OneDrive//modele_emprunteur//CSV//PASSAGE_INVAL.csv',\n",
    "        'referentielProduit' : 'C://Users//work//OneDrive//modele_emprunteur//CSV//TBL_PROD.csv',\n",
    "        'TxForward' : 'C://Users//work//OneDrive//modele_emprunteur//CSV//TX_FORWARD.csv',\n",
    "        'PathOutput' : 'C://Users//work//OneDrive//modele_emprunteur//CSV//SORTIES_MODELE//'}\n",
    "# Set the model configuration\n",
    "ADECashFLowModel.config(dataconfig)\n",
    "# Read the Model point file into dataframe\n",
    "ModelPoint = pd.read_csv('C://Users//work//OneDrive//modele_emprunteur//CSV//MODEL_POINT_2.csv', sep=\";\")\n",
    "# Initialisaiton of the result dataframe\n",
    "run_result = pd.DataFrame()\n",
    "# projection = ADECashFLowModel(ModelPoint.loc[2,:])\n",
    "# print(projection.present_value_future_cash_flow())\n",
    "for i in range(0, ModelPoint.shape[0]):\n",
    "    projection = ADECashFLowModel(ModelPoint.loc[i,:])\n",
    "    # run_result = run_result.append(projection.full_cash_flow_projection())\n",
    "    run_result = pd.concat([run_result, projection.full_cash_flow_projection()], axis=0, join='outer')\n",
    "    print(i)\n",
    "date_time = datetime.now().strftime(\"%d%m%Y_%H%M%S\")\n",
    "path_string = ADECashFLowModel.ModelConfig['PathOutput']+'run_ae_'+date_time+'.csv'\n",
    "run_result.to_csv(path_string, sep=',', decimal='.', header=True, index=False)"
   ]
  },
  {
   "cell_type": "markdown",
   "metadata": {},
   "source": [
    "# PVCF : Present value of future cash flows"
   ]
  },
  {
   "cell_type": "code",
   "execution_count": null,
   "metadata": {},
   "outputs": [],
   "source": [
    "# Initialisaiton of the result dataframe\n",
    "run_result = pd.DataFrame()\n",
    "# projection = ADECashFLowModel(ModelPoint.loc[2,:])\n",
    "# print(projection.present_value_future_cash_flow())\n",
    "for i in range(0, ModelPoint.shape[0]):\n",
    "    projection = ADECashFLowModel(ModelPoint.loc[i,:])\n",
    "    # run_result = run_result.append(projection.full_cash_flow_projection())\n",
    "    run_result = pd.concat([run_result, projection.present_value_future_cash_flow()], axis=0, join='outer')\n",
    "    print(i)\n",
    "date_time = datetime.now().strftime(\"%d%m%Y_%H%M%S\")\n",
    "path_string = ADECashFLowModel.ModelConfig['PathOutput']+'pvcf_ae_'+date_time+'.csv'\n",
    "run_result.to_csv(path_string, sep=',', decimal='.', header=True, index=False)"
   ]
  }
 ],
 "metadata": {
  "kernelspec": {
   "display_name": "Python 3.8.12 ('base')",
   "language": "python",
   "name": "python3"
  },
  "language_info": {
   "codemirror_mode": {
    "name": "ipython",
    "version": 3
   },
   "file_extension": ".py",
   "mimetype": "text/x-python",
   "name": "python",
   "nbconvert_exporter": "python",
   "pygments_lexer": "ipython3",
   "version": "3.9.12"
  },
  "orig_nbformat": 4,
  "vscode": {
   "interpreter": {
    "hash": "202260047409ba1bf2b58128b97ed3bf3828b8561959be6311c09b5e3ef5e958"
   }
  }
 },
 "nbformat": 4,
 "nbformat_minor": 2
}
